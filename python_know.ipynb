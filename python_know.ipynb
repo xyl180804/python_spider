{
 "cells": [
  {
   "cell_type": "markdown",
   "metadata": {},
   "source": [
    "# Python的数据类型\n",
    "\n",
    "###  数字类型 int long float\n",
    "###  字典 dict\n",
    "###  字符串 str\n",
    "###  列表 list\n",
    "###  元组 tuple\n",
    "###  集合 set\n",
    "###  布尔 bool"
   ]
  },
  {
   "cell_type": "markdown",
   "metadata": {},
   "source": [
    "# Python 迭代器 装饰器  生成器\n",
    "\n",
    "### 迭代器  访问者不用关心迭代器内部结构 仅需通过next()方法取下一个内容  不能随机访问 只能从头至尾依次访问\n",
    "\n",
    "### 生成器  函数调用是返回一个迭代器 这个函数就叫做生成器 函数中有yield语法也会叫生成器\n",
    "\n",
    "### 装饰器  在不改变源码下 给函数增加新功能"
   ]
  },
  {
   "cell_type": "markdown",
   "metadata": {},
   "source": [
    "# 全局变量是指定义在函数外部的变量。全局变量的作用域为全局。 还可以用global声明全局变量\n",
    "# 局部变量是指定义在函数内部的变量。局部变量的的作用域为函数内。"
   ]
  },
  {
   "cell_type": "markdown",
   "metadata": {},
   "source": [
    "### 将字符串custname字符串的编码格式为utf-8,如何将custname的内容转化为gb18030的字符串\n",
    "# custname.decode('utf-8').encode('gb18030')"
   ]
  },
  {
   "cell_type": "markdown",
   "metadata": {},
   "source": [
    "# python 爬虫架构 ： 调度器 URL管理器 网页下载器 网页解析器 应用数据\n",
    "### 调度器 调度 URL管理器 网页下载器 网页解析器 三者协调工作\n",
    "### URL管理器 待爬取的URL地址 和 已爬取的URL地址  实现方法 内存 数据库 缓存数据库\n",
    "### 网页下载器 传入URL地址 下载网页 转换成 字符串  方法有 urllib2 requests\n",
    "### 网页解析器 对网页字符串进行解析 方法有 xlml BeautifulSoup 这两者都是以DOM树方式解析"
   ]
  },
  {
   "cell_type": "markdown",
   "metadata": {},
   "source": [
    "# 反爬虫策略及解决方法\n",
    "### headers 反爬虫 ： 添加headers请求头\n",
    "### 基于用户行为： 动态变化爬取数据 模拟用户行为\n",
    "### 检测ip : 获取随机ip地址并请求\n",
    "### 动态页面反爬虫: 发送ajax请求 selenium"
   ]
  },
  {
   "cell_type": "markdown",
   "metadata": {},
   "source": [
    "# 爬虫框架\n",
    "① scrapy ②pyspider \n",
    "scrapy :性能最高/纯python实现  可以加入request 和 beautifulSoup 方便拓展 内置 css_selector 和 xpath  默认深度优先\n",
    "pyspider : 高并发爬取数据 使用代理 提供了一个爬虫任务管理界面 实现爬虫的停止、启动、和调试"
   ]
  },
  {
   "cell_type": "markdown",
   "metadata": {},
   "source": [
    " scrapy的基本结构 \n",
    "\n",
    "# 引擎 调度器 下载器 爬虫 项目管道\n",
    "\n",
    "# 三个中间件 调度中间件 下载器中间件 蜘蛛中间件 \n",
    "\n",
    "调度中间件 ：从引擎发送到调度器的的请求和响应\n",
    "下载器中间件：处理引擎 和下载器之间的请求和响应\n",
    "爬虫中间件：处理蜘蛛响应的输入和输出\n"
   ]
  },
  {
   "cell_type": "markdown",
   "metadata": {},
   "source": [
    "# scrapy流程\n",
    "#### 1、spider将要处理的url发送给引擎\n",
    "#### 2、引擎发送request请求给调度器请求入队\n",
    "#### 3、调度器处理请求并将之返回给引擎\n",
    "#### 4、引擎通过下载器中间件将处理好的请求发送给下载器\n",
    "#### 5、下载器回传下载好的内容给引擎\n",
    "#### 6、引擎将内容发送给spider处理 \n",
    "#### 7、spider 将下一个url发送给引擎 并将处理好的item发送给引擎 \n",
    "#### 8、引擎将item发送给项目管道 项目管道进行处理和存储 \n",
    "#### 9、再重复2操作\n"
   ]
  },
  {
   "cell_type": "markdown",
   "metadata": {},
   "source": [
    "# scrapy去重\n",
    "dont_filter 设置值为false 默认为false\n",
    "原理 ：对于url请求，调度器会根据URL的内容生成指纹信息，将指纹信息和set()集合比较 如果存在 就不让入Request队列中"
   ]
  },
  {
   "cell_type": "markdown",
   "metadata": {},
   "source": [
    "# 代理 \n",
    "同一个ip访问次数 频率过快 会被禁止访问 通过代理服务器 每隔一段时间换代理 从而抓取内容\n",
    "# 代理使用\n",
    "proxy()"
   ]
  },
  {
   "cell_type": "markdown",
   "metadata": {},
   "source": [
    "# 爬虫验证码\n",
    "#### ① 输入式验证码  OCR 用Python的第三方库 tesserocr 但是当在复杂背景下 识别率降低 通过处理图片 进行灰度化 二值化 提高识别率\n",
    "#### ② 滑动式验证码  比较两张图的像素 找到不一样的位置 获取location和size 再通过selenium模拟\n",
    "#### ③ 点击式图文验证和图标操作  第三方识别接口\n",
    "#### ④ 宫格验证码 暴力破解 枚举"
   ]
  },
  {
   "cell_type": "markdown",
   "metadata": {},
   "source": [
    "# 爬取速度过快出现的验证码处理\n",
    "\n",
    "#### 打码平台\n",
    "\n",
    "### 避免验证码 \n",
    "#### 控制抓取速度 设置随机sleep\n",
    "#### 定时切换ip地址\n"
   ]
  },
  {
   "cell_type": "markdown",
   "metadata": {},
   "source": [
    "# 如何用机器识别验证码\n",
    "\n",
    "### 训练样本 建立模型 识别\n",
    "### 训练样本 对图像进行预处理，比如分割啊，灰度啊，去噪啊 \n",
    "### 建立模型 用CNN建立模型\n",
    "### 识别        分类"
   ]
  },
  {
   "cell_type": "markdown",
   "metadata": {},
   "source": [
    "# 模拟登陆\n",
    "### ① 根据自己登陆的cookie 放入请求\n",
    "### ② 使用 cookielib 库\n",
    "### ③ 使用selenium "
   ]
  },
  {
   "cell_type": "markdown",
   "metadata": {},
   "source": [
    "# 分布式\n",
    "数据量大 一个项目拷贝到多台电脑 同时爬取 提高效率\n",
    "# 分布式爬虫去重\n",
    " 切分处理 按照域名首字母 不让他们有重复的可能"
   ]
  },
  {
   "cell_type": "markdown",
   "metadata": {},
   "source": [
    "# 数据库 \n",
    "### 关系型数据库\n",
    "#### 由二维表及其之间的联系所组成的一个数据组织\n",
    "#### sqlite oracle mysql / 采用关系模型 来组织数据的数据库 / 性能较差/灵活性低\n",
    "\n",
    "### 非关系型数据库\n",
    "#### 数据结构化存储方法的集合 可以是键值对 或者文档\n",
    "#### MongoDb redis Hbase / 键值对存储数据 没有耦合性 容易拓展 / "
   ]
  },
  {
   "cell_type": "markdown",
   "metadata": {},
   "source": [
    "# 数据存储方式\n",
    "\n",
    "### ① json文件       可以通过json.loads 读取文件内容  可以通过 列表 或者 字典 操作输出的变量 \n",
    "###           使用json.dumps将列表序列化并且转换为unicode编码，储存的时候，可以 encode 想要的类型（GBK/UTF-8）\n",
    "\n",
    "### ②CSV文件  可以用excel 打开表格\n",
    " \n",
    "### ③ Mysql数据库  数据直观\n",
    "\n",
    "### ④ Redis数据库 取出的数据是二进制数据 需要转化成字符串再操作\n",
    "\n",
    "### ⑤MongoDB数据库  没有数据类型限制"
   ]
  },
  {
   "cell_type": "markdown",
   "metadata": {},
   "source": [
    "# 各类数据库支持的数据类型\n",
    "\n",
    "### mysql      整形、浮点型、字符型、时间类型、枚举类型、集合类型\n",
    "### mongodb   除上述以外 有代码类型 正则表达式类型 等\n",
    "### redis         string  hash    list      set    (sorted set)"
   ]
  },
  {
   "cell_type": "markdown",
   "metadata": {},
   "source": [
    "# 数据存储的数据库选择\n",
    "###  ①学生信息  mysql\n",
    "###  ②淘宝商品各类信息 mongodb\n",
    "  "
   ]
  },
  {
   "cell_type": "markdown",
   "metadata": {},
   "source": [
    "# http 和 https 的区别\n",
    "\n",
    "### http 是超文本传输协议  https 是具有安全性的ssl加密传输协议\n",
    "### http、https 使用完全不同的连接方式   http的端口是 80  https的端口是443"
   ]
  },
  {
   "cell_type": "markdown",
   "metadata": {},
   "source": [
    "# TCP/IP的四层协议\n",
    "### 应用层\n",
    "### 运输层 \n",
    "### 网络层\n",
    "### 网络接口层"
   ]
  },
  {
   "cell_type": "markdown",
   "metadata": {},
   "source": [
    "# 三次握手 \n",
    "#### 客户向服务器发送端口号 \n",
    "#### 服务器再向客户发送确认信息\n",
    "#### 客户再向服务器发送确认信息"
   ]
  },
  {
   "cell_type": "markdown",
   "metadata": {},
   "source": [
    "# 结构化数据提取方式 \n",
    "## json 转化成Python类型进行操作\n",
    "## XML 转化成Python类型 Xpath css选择器 正则匹配（re 模块）"
   ]
  },
  {
   "cell_type": "markdown",
   "metadata": {},
   "source": [
    "# with打开处理文件  \n",
    "### 用f.open的话需要做异常处理 和进行文件关闭 \n",
    "### with 自动帮我们做了文件关闭"
   ]
  },
  {
   "cell_type": "markdown",
   "metadata": {},
   "source": [
    "# s = \"ajldjlajfdljfddd\"，去重并从小到大排序输出\"adfjl\"\n",
    "\n",
    "## s = \"ajldjlajfdljfddd\"\n",
    "## s = list(set(s))\n",
    "## s.sort()\n",
    "## print(''.join(s))\n",
    "\n",
    "### adfjl\n",
    "### [1, 2, 4, 6]"
   ]
  },
  {
   "cell_type": "code",
   "execution_count": 20,
   "metadata": {},
   "outputs": [
    {
     "name": "stdout",
     "output_type": "stream",
     "text": [
      "['中国 ']\n"
     ]
    }
   ],
   "source": [
    "#  <div class=\"nam\">中国 </div>，用正则匹配出标签里面的内容（“中国”），其中class的类名是不确定的\n",
    "import re \n",
    "str = '<div class=\"nam\">中国 </div>'\n",
    "res = re.findall('<div class=\".*\">(.*?)</div>', str)\n",
    "print(res)"
   ]
  },
  {
   "cell_type": "code",
   "execution_count": 17,
   "metadata": {},
   "outputs": [
    {
     "name": "stdout",
     "output_type": "stream",
     "text": [
      "1556156608.2700005\n",
      "2019.04.25 09:43\n"
     ]
    }
   ],
   "source": [
    "import time\n",
    "print(time.time())\n",
    "print(time.strftime('%Y.%m.%d %H:%M',time.localtime(time.time())))"
   ]
  },
  {
   "cell_type": "code",
   "execution_count": 1,
   "metadata": {},
   "outputs": [
    {
     "name": "stdout",
     "output_type": "stream",
     "text": [
      "1\n",
      "2\n",
      "3\n",
      "{1: [1, 2, 3]}\n"
     ]
    }
   ],
   "source": [
    "a={1:[1,2,3]}\n",
    "b=a.copy()\n",
    "for i in a[1]:\n",
    "    print(i)\n",
    "print(b)"
   ]
  },
  {
   "cell_type": "code",
   "execution_count": 2,
   "metadata": {},
   "outputs": [
    {
     "name": "stdout",
     "output_type": "stream",
     "text": [
      "1\n",
      "2\n",
      "3\n",
      "{1: [1, 2, 3]}\n",
      "{1: [1, 2, 3]}\n"
     ]
    }
   ],
   "source": [
    "a={1:[1,2,3]}\n",
    "b=a.copy()\n",
    "num = 0\n",
    "for i in a[1]:\n",
    "    num+=1\n",
    "    i=num\n",
    "    print(i)\n",
    "print(a)\n",
    "print(b)"
   ]
  },
  {
   "cell_type": "code",
   "execution_count": 3,
   "metadata": {},
   "outputs": [
    {
     "name": "stdout",
     "output_type": "stream",
     "text": [
      "3\n",
      "4\n",
      "5\n",
      "{1: [1, 2, 3]}\n",
      "{1: [1, 2, 3]}\n"
     ]
    }
   ],
   "source": [
    "a={1:[1,2,3]}\n",
    "b=a.copy()\n",
    "num = 2\n",
    "for i in a[1]:\n",
    "    num+=1\n",
    "    i=num\n",
    "    print(i)\n",
    "print(a)\n",
    "print(b)"
   ]
  },
  {
   "cell_type": "code",
   "execution_count": 4,
   "metadata": {},
   "outputs": [
    {
     "name": "stdout",
     "output_type": "stream",
     "text": [
      "{1: [2, 4, 5]}\n",
      "{1: [1, 2, 3]}\n"
     ]
    }
   ],
   "source": [
    "a={1:[1,2,3]}\n",
    "b=a.copy()\n",
    "a[1] = [2,4,5]\n",
    "print(a)\n",
    "print(b)"
   ]
  },
  {
   "cell_type": "code",
   "execution_count": 9,
   "metadata": {},
   "outputs": [
    {
     "ename": "NameError",
     "evalue": "name 'copy' is not defined",
     "output_type": "error",
     "traceback": [
      "\u001b[1;31m---------------------------------------------------------------------------\u001b[0m",
      "\u001b[1;31mNameError\u001b[0m                                 Traceback (most recent call last)",
      "\u001b[1;32m<ipython-input-9-d374d4d7d4c4>\u001b[0m in \u001b[0;36m<module>\u001b[1;34m()\u001b[0m\n\u001b[0;32m      1\u001b[0m \u001b[0ma\u001b[0m\u001b[1;33m=\u001b[0m\u001b[1;33m{\u001b[0m\u001b[1;36m1\u001b[0m\u001b[1;33m:\u001b[0m\u001b[1;33m[\u001b[0m\u001b[1;36m1\u001b[0m\u001b[1;33m,\u001b[0m\u001b[1;36m2\u001b[0m\u001b[1;33m,\u001b[0m\u001b[1;36m3\u001b[0m\u001b[1;33m]\u001b[0m\u001b[1;33m}\u001b[0m\u001b[1;33m\u001b[0m\u001b[0m\n\u001b[1;32m----> 2\u001b[1;33m \u001b[0mb\u001b[0m \u001b[1;33m=\u001b[0m \u001b[0mcopy\u001b[0m\u001b[1;33m.\u001b[0m\u001b[0mdeepcopy\u001b[0m\u001b[1;33m(\u001b[0m\u001b[0ma\u001b[0m\u001b[1;33m)\u001b[0m\u001b[1;33m\u001b[0m\u001b[0m\n\u001b[0m\u001b[0;32m      3\u001b[0m \u001b[0mprint\u001b[0m\u001b[1;33m(\u001b[0m\u001b[0ma\u001b[0m\u001b[1;33m)\u001b[0m\u001b[1;33m\u001b[0m\u001b[0m\n\u001b[0;32m      4\u001b[0m \u001b[0mprint\u001b[0m\u001b[1;33m(\u001b[0m\u001b[0mb\u001b[0m\u001b[1;33m)\u001b[0m\u001b[1;33m\u001b[0m\u001b[0m\n",
      "\u001b[1;31mNameError\u001b[0m: name 'copy' is not defined"
     ]
    }
   ],
   "source": [
    "a={1:[1,2,3]}\n",
    "b=copy.deepcopy(a)\n",
    "print(a)\n",
    "print(b)"
   ]
  },
  {
   "cell_type": "code",
   "execution_count": 10,
   "metadata": {},
   "outputs": [
    {
     "name": "stdout",
     "output_type": "stream",
     "text": [
      "{1: [2, 4, 5]}\n",
      "{1: [2, 4, 5]}\n"
     ]
    }
   ],
   "source": [
    "a={1:[1,2,3]}\n",
    "a[1] = [2,4,5]\n",
    "b=a.copy()\n",
    "print(a)\n",
    "print(b)"
   ]
  },
  {
   "cell_type": "code",
   "execution_count": 18,
   "metadata": {},
   "outputs": [
    {
     "name": "stdout",
     "output_type": "stream",
     "text": [
      "[1, 2, 3, 4, 5, 6, 8]\n"
     ]
    }
   ],
   "source": [
    "#删除列表中的重复元素 利用set的特性，元素是非重复的\n",
    "a = [1,2,3,4,5,6,2,5,3,8]\n",
    "def fun(a):\n",
    "    a = list(set(a))\n",
    "    print(a)\n",
    "fun(a)"
   ]
  },
  {
   "cell_type": "code",
   "execution_count": 19,
   "metadata": {},
   "outputs": [
    {
     "name": "stdout",
     "output_type": "stream",
     "text": [
      "[25, 36]\n"
     ]
    }
   ],
   "source": [
    "# map函数 接收一个函数和一个list 并将函数依次作用在list的每个元素上 并返回一个列表\n",
    "list = [1,2,3,5,6]\n",
    "def fun(x):\n",
    "    return x**2\n",
    "res = map(fun,list)\n",
    "res = [ i for i in res if i > 10]\n",
    "print(res)"
   ]
  },
  {
   "cell_type": "code",
   "execution_count": 1,
   "metadata": {},
   "outputs": [
    {
     "name": "stdout",
     "output_type": "stream",
     "text": [
      "2019-04-26-14:36\n"
     ]
    }
   ],
   "source": [
    "import time\n",
    "#print(time.strftime('%Y.%m.%d %H:%M',time.localtime(time.time())))\n",
    "print(time.strftime('%Y-%m-%d-%H:%M', time.localtime(time.time())))"
   ]
  },
  {
   "cell_type": "code",
   "execution_count": null,
   "metadata": {},
   "outputs": [],
   "source": []
  }
 ],
 "metadata": {
  "kernelspec": {
   "display_name": "Python 3",
   "language": "python",
   "name": "python3"
  },
  "language_info": {
   "codemirror_mode": {
    "name": "ipython",
    "version": 3
   },
   "file_extension": ".py",
   "mimetype": "text/x-python",
   "name": "python",
   "nbconvert_exporter": "python",
   "pygments_lexer": "ipython3",
   "version": "3.6.4"
  }
 },
 "nbformat": 4,
 "nbformat_minor": 2
}
